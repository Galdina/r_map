{
 "cells": [
  {
   "cell_type": "code",
   "execution_count": 1,
   "metadata": {},
   "outputs": [],
   "source": [
    "\n",
    "# Import Python modules\n",
    "import pandas as pd\n",
    "import numpy as np\n",
    "import matplotlib.pyplot as plt\n",
    "import datetime\n",
    "import seaborn as sns"
   ]
  },
  {
   "cell_type": "code",
   "execution_count": 2,
   "metadata": {},
   "outputs": [],
   "source": [
    "\n",
    "# Set max numbers of columns\n",
    "pd.set_option('display.max_columns', 999)"
   ]
  },
  {
   "cell_type": "code",
   "execution_count": 3,
   "metadata": {},
   "outputs": [],
   "source": [
    "# Load Data\n",
    "df = pd.read_csv(\"./data/Metro_invt_fs_uc_sfrcondo_smoothed_month.csv\")"
   ]
  },
  {
   "cell_type": "code",
   "execution_count": 4,
   "metadata": {},
   "outputs": [
    {
     "data": {
      "text/html": [
       "<div>\n",
       "<style scoped>\n",
       "    .dataframe tbody tr th:only-of-type {\n",
       "        vertical-align: middle;\n",
       "    }\n",
       "\n",
       "    .dataframe tbody tr th {\n",
       "        vertical-align: top;\n",
       "    }\n",
       "\n",
       "    .dataframe thead th {\n",
       "        text-align: right;\n",
       "    }\n",
       "</style>\n",
       "<table border=\"1\" class=\"dataframe\">\n",
       "  <thead>\n",
       "    <tr style=\"text-align: right;\">\n",
       "      <th></th>\n",
       "      <th>RegionID</th>\n",
       "      <th>SizeRank</th>\n",
       "      <th>RegionName</th>\n",
       "      <th>RegionType</th>\n",
       "      <th>StateName</th>\n",
       "      <th>2018-01-31</th>\n",
       "      <th>2018-02-28</th>\n",
       "      <th>2018-03-31</th>\n",
       "      <th>2018-04-30</th>\n",
       "      <th>2018-05-31</th>\n",
       "      <th>2018-06-30</th>\n",
       "      <th>2018-07-31</th>\n",
       "      <th>2018-08-31</th>\n",
       "      <th>2018-09-30</th>\n",
       "      <th>2018-10-31</th>\n",
       "      <th>2018-11-30</th>\n",
       "      <th>2018-12-31</th>\n",
       "      <th>2019-01-31</th>\n",
       "      <th>2019-02-28</th>\n",
       "      <th>2019-03-31</th>\n",
       "      <th>2019-04-30</th>\n",
       "      <th>2019-05-31</th>\n",
       "      <th>2019-06-30</th>\n",
       "      <th>2019-07-31</th>\n",
       "      <th>2019-08-31</th>\n",
       "      <th>2019-09-30</th>\n",
       "      <th>2019-10-31</th>\n",
       "      <th>2019-11-30</th>\n",
       "      <th>2019-12-31</th>\n",
       "      <th>2020-01-31</th>\n",
       "      <th>2020-02-29</th>\n",
       "      <th>2020-03-31</th>\n",
       "      <th>2020-04-30</th>\n",
       "      <th>2020-05-31</th>\n",
       "      <th>2020-06-30</th>\n",
       "      <th>2020-07-31</th>\n",
       "      <th>2020-08-31</th>\n",
       "      <th>2020-09-30</th>\n",
       "      <th>2020-10-31</th>\n",
       "      <th>2020-11-30</th>\n",
       "      <th>2020-12-31</th>\n",
       "      <th>2021-01-31</th>\n",
       "    </tr>\n",
       "  </thead>\n",
       "  <tbody>\n",
       "    <tr>\n",
       "      <td>0</td>\n",
       "      <td>102001</td>\n",
       "      <td>0</td>\n",
       "      <td>United States</td>\n",
       "      <td>Country</td>\n",
       "      <td>NaN</td>\n",
       "      <td>1428492.0</td>\n",
       "      <td>1385978.0</td>\n",
       "      <td>1443278.0</td>\n",
       "      <td>1530545.0</td>\n",
       "      <td>1632459.0</td>\n",
       "      <td>1706310.0</td>\n",
       "      <td>1757706.0</td>\n",
       "      <td>1782596.0</td>\n",
       "      <td>1771716.0</td>\n",
       "      <td>1751484.0</td>\n",
       "      <td>1694674.0</td>\n",
       "      <td>1597816.0</td>\n",
       "      <td>1509807.0</td>\n",
       "      <td>1461332.0</td>\n",
       "      <td>1507991.0</td>\n",
       "      <td>1574607.0</td>\n",
       "      <td>1667087.0</td>\n",
       "      <td>1738836.0</td>\n",
       "      <td>1783386.0</td>\n",
       "      <td>1793813.0</td>\n",
       "      <td>1774845.0</td>\n",
       "      <td>1744834.0</td>\n",
       "      <td>1671453.0</td>\n",
       "      <td>1555421.0</td>\n",
       "      <td>1451910.0</td>\n",
       "      <td>1401857.0</td>\n",
       "      <td>1427497.0</td>\n",
       "      <td>1414964.0</td>\n",
       "      <td>1436500.0</td>\n",
       "      <td>1435812.0</td>\n",
       "      <td>1460707.0</td>\n",
       "      <td>1431283.0</td>\n",
       "      <td>1386313.0</td>\n",
       "      <td>1349094.0</td>\n",
       "      <td>1275155.0</td>\n",
       "      <td>1170810.0</td>\n",
       "      <td>1080975.0</td>\n",
       "    </tr>\n",
       "    <tr>\n",
       "      <td>1</td>\n",
       "      <td>394913</td>\n",
       "      <td>1</td>\n",
       "      <td>New York, NY</td>\n",
       "      <td>Msa</td>\n",
       "      <td>NY</td>\n",
       "      <td>68791.0</td>\n",
       "      <td>68342.0</td>\n",
       "      <td>72850.0</td>\n",
       "      <td>79763.0</td>\n",
       "      <td>85778.0</td>\n",
       "      <td>90327.0</td>\n",
       "      <td>92456.0</td>\n",
       "      <td>91982.0</td>\n",
       "      <td>90771.0</td>\n",
       "      <td>90002.0</td>\n",
       "      <td>87770.0</td>\n",
       "      <td>82553.0</td>\n",
       "      <td>77335.0</td>\n",
       "      <td>75100.0</td>\n",
       "      <td>78746.0</td>\n",
       "      <td>84531.0</td>\n",
       "      <td>91384.0</td>\n",
       "      <td>96092.0</td>\n",
       "      <td>97744.0</td>\n",
       "      <td>96295.0</td>\n",
       "      <td>94584.0</td>\n",
       "      <td>92606.0</td>\n",
       "      <td>89127.0</td>\n",
       "      <td>82148.0</td>\n",
       "      <td>75842.0</td>\n",
       "      <td>73530.0</td>\n",
       "      <td>75864.0</td>\n",
       "      <td>73515.0</td>\n",
       "      <td>71703.0</td>\n",
       "      <td>71306.0</td>\n",
       "      <td>77650.0</td>\n",
       "      <td>81942.0</td>\n",
       "      <td>83753.0</td>\n",
       "      <td>83202.0</td>\n",
       "      <td>80137.0</td>\n",
       "      <td>73780.0</td>\n",
       "      <td>67540.0</td>\n",
       "    </tr>\n",
       "    <tr>\n",
       "      <td>2</td>\n",
       "      <td>753899</td>\n",
       "      <td>2</td>\n",
       "      <td>Los Angeles-Long Beach-Anaheim, CA</td>\n",
       "      <td>Msa</td>\n",
       "      <td>CA</td>\n",
       "      <td>20163.0</td>\n",
       "      <td>19985.0</td>\n",
       "      <td>21941.0</td>\n",
       "      <td>23861.0</td>\n",
       "      <td>25830.0</td>\n",
       "      <td>27431.0</td>\n",
       "      <td>29141.0</td>\n",
       "      <td>30220.0</td>\n",
       "      <td>30760.0</td>\n",
       "      <td>30979.0</td>\n",
       "      <td>30452.0</td>\n",
       "      <td>28679.0</td>\n",
       "      <td>27039.0</td>\n",
       "      <td>26202.0</td>\n",
       "      <td>27502.0</td>\n",
       "      <td>28793.0</td>\n",
       "      <td>30480.0</td>\n",
       "      <td>31407.0</td>\n",
       "      <td>32100.0</td>\n",
       "      <td>31935.0</td>\n",
       "      <td>31392.0</td>\n",
       "      <td>30410.0</td>\n",
       "      <td>28375.0</td>\n",
       "      <td>25154.0</td>\n",
       "      <td>22388.0</td>\n",
       "      <td>21333.0</td>\n",
       "      <td>21875.0</td>\n",
       "      <td>21554.0</td>\n",
       "      <td>21975.0</td>\n",
       "      <td>22977.0</td>\n",
       "      <td>25034.0</td>\n",
       "      <td>26018.0</td>\n",
       "      <td>26405.0</td>\n",
       "      <td>26381.0</td>\n",
       "      <td>25314.0</td>\n",
       "      <td>23001.0</td>\n",
       "      <td>20822.0</td>\n",
       "    </tr>\n",
       "  </tbody>\n",
       "</table>\n",
       "</div>"
      ],
      "text/plain": [
       "   RegionID  SizeRank                          RegionName RegionType  \\\n",
       "0    102001         0                       United States    Country   \n",
       "1    394913         1                        New York, NY        Msa   \n",
       "2    753899         2  Los Angeles-Long Beach-Anaheim, CA        Msa   \n",
       "\n",
       "  StateName  2018-01-31  2018-02-28  2018-03-31  2018-04-30  2018-05-31  \\\n",
       "0       NaN   1428492.0   1385978.0   1443278.0   1530545.0   1632459.0   \n",
       "1        NY     68791.0     68342.0     72850.0     79763.0     85778.0   \n",
       "2        CA     20163.0     19985.0     21941.0     23861.0     25830.0   \n",
       "\n",
       "   2018-06-30  2018-07-31  2018-08-31  2018-09-30  2018-10-31  2018-11-30  \\\n",
       "0   1706310.0   1757706.0   1782596.0   1771716.0   1751484.0   1694674.0   \n",
       "1     90327.0     92456.0     91982.0     90771.0     90002.0     87770.0   \n",
       "2     27431.0     29141.0     30220.0     30760.0     30979.0     30452.0   \n",
       "\n",
       "   2018-12-31  2019-01-31  2019-02-28  2019-03-31  2019-04-30  2019-05-31  \\\n",
       "0   1597816.0   1509807.0   1461332.0   1507991.0   1574607.0   1667087.0   \n",
       "1     82553.0     77335.0     75100.0     78746.0     84531.0     91384.0   \n",
       "2     28679.0     27039.0     26202.0     27502.0     28793.0     30480.0   \n",
       "\n",
       "   2019-06-30  2019-07-31  2019-08-31  2019-09-30  2019-10-31  2019-11-30  \\\n",
       "0   1738836.0   1783386.0   1793813.0   1774845.0   1744834.0   1671453.0   \n",
       "1     96092.0     97744.0     96295.0     94584.0     92606.0     89127.0   \n",
       "2     31407.0     32100.0     31935.0     31392.0     30410.0     28375.0   \n",
       "\n",
       "   2019-12-31  2020-01-31  2020-02-29  2020-03-31  2020-04-30  2020-05-31  \\\n",
       "0   1555421.0   1451910.0   1401857.0   1427497.0   1414964.0   1436500.0   \n",
       "1     82148.0     75842.0     73530.0     75864.0     73515.0     71703.0   \n",
       "2     25154.0     22388.0     21333.0     21875.0     21554.0     21975.0   \n",
       "\n",
       "   2020-06-30  2020-07-31  2020-08-31  2020-09-30  2020-10-31  2020-11-30  \\\n",
       "0   1435812.0   1460707.0   1431283.0   1386313.0   1349094.0   1275155.0   \n",
       "1     71306.0     77650.0     81942.0     83753.0     83202.0     80137.0   \n",
       "2     22977.0     25034.0     26018.0     26405.0     26381.0     25314.0   \n",
       "\n",
       "   2020-12-31  2021-01-31  \n",
       "0   1170810.0   1080975.0  \n",
       "1     73780.0     67540.0  \n",
       "2     23001.0     20822.0  "
      ]
     },
     "execution_count": 4,
     "metadata": {},
     "output_type": "execute_result"
    }
   ],
   "source": [
    "# Preview Data\n",
    "df.head(3)"
   ]
  },
  {
   "cell_type": "code",
   "execution_count": 5,
   "metadata": {},
   "outputs": [
    {
     "data": {
      "text/plain": [
       "array([nan, 'NY', 'CA', 'IL', 'TX', 'PA', 'DC', 'FL', 'GA', 'MA', 'MI',\n",
       "       'AZ', 'WA', 'MN', 'MO', 'MD', 'CO', 'OR', 'NC', 'OH', 'NV', 'IN',\n",
       "       'VA', 'TN', 'RI', 'WI', 'OK', 'KY', 'CT', 'LA', 'AL', 'UT', 'HI',\n",
       "       'NM', 'NE', 'SC', 'AR', 'KS', 'ID', 'IA', 'MS'], dtype=object)"
      ]
     },
     "execution_count": 5,
     "metadata": {},
     "output_type": "execute_result"
    }
   ],
   "source": [
    "# Select unique state values \n",
    "df['StateName'].unique()"
   ]
  },
  {
   "cell_type": "code",
   "execution_count": 8,
   "metadata": {},
   "outputs": [],
   "source": [
    "\n",
    "df1 = df.groupby('StateName')['RegionName'].nunique()"
   ]
  },
  {
   "cell_type": "code",
   "execution_count": 7,
   "metadata": {},
   "outputs": [
    {
     "data": {
      "text/plain": [
       "Text(0, 0.5, 'Home Price $')"
      ]
     },
     "execution_count": 7,
     "metadata": {},
     "output_type": "execute_result"
    },
    {
     "data": {
      "image/png": "[encoded data removed]",
      "text/plain": [
       "<Figure size 1224x576 with 1 Axes>"
      ]
     },
     "metadata": {
      "needs_background": "light"
     },
     "output_type": "display_data"
    }
   ],
   "source": [
    "df.plot(figsize=(17,8))\n",
    "plt.title(\"Housing Price Trends \")\n",
    "plt.xlabel('Year')\n",
    "plt.ylabel('Home Price $')"
   ]
  },
  {
   "cell_type": "code",
   "execution_count": 13,
   "metadata": {},
   "outputs": [],
   "source": [
    "import plotly.graph_objs as go\n",
    "from plotly.subplots import make_subplots\n",
    "from plotly.offline import download_plotlyjs, init_notebook_mode, plot, iplot"
   ]
  },
  {
   "cell_type": "code",
   "execution_count": 15,
   "metadata": {},
   "outputs": [
    {
     "data": {
      "application/vnd.plotly.v1+json": {
       "config": {
        "linkText": "Export to plot.ly",
        "plotlyServerURL": "https://plot.ly",
        "showLink": false
       },
       "data": [
        {
         "colorbar": {
          "title": {
           "text": "Scale"
          }
         },
         "colorscale": [
          [
           0,
           "rgb(253, 224, 197)"
          ],
          [
           0.16666666666666666,
           "rgb(250, 203, 166)"
          ],
          [
           0.3333333333333333,
           "rgb(248, 181, 139)"
          ],
          [
           0.5,
           "rgb(245, 158, 114)"
          ],
          [
           0.6666666666666666,
           "rgb(242, 133, 93)"
          ],
          [
           0.8333333333333334,
           "rgb(239, 106, 76)"
          ],
          [
           1,
           "rgb(235, 74, 64)"
          ]
         ],
         "locationmode": "USA-states",
         "locations": [
          null,
          "NY",
          "CA",
          "IL",
          "TX",
          "PA",
          "TX",
          "DC",
          "FL",
          "GA",
          "MA",
          "CA",
          "MI",
          "CA",
          "AZ",
          "WA",
          "MN",
          "CA",
          "MO",
          "FL",
          "MD",
          "CO",
          "PA",
          "OR",
          "NC",
          "CA",
          "TX",
          "FL",
          "OH",
          "OH",
          "MO",
          "NV",
          "OH",
          "IN",
          "CA",
          "TX",
          "VA",
          "TN",
          "RI",
          "WI",
          "FL",
          "TN",
          "OK",
          "KY",
          "CT",
          "VA",
          "LA",
          "NY",
          "NC",
          "AL",
          "UT",
          "NY",
          "MI",
          "AZ",
          "HI",
          "OK",
          "CA",
          "MA",
          "CT",
          "NM",
          "NY",
          "NE",
          "CT",
          "CA",
          "TN",
          "SC",
          "CA",
          "PA",
          "TX",
          "LA",
          "OH",
          "TX",
          "SC",
          "NC",
          "OH",
          "FL",
          "AR",
          "CA",
          "SC",
          "NY",
          "CO",
          "NC",
          "KS",
          "MA",
          "FL",
          "ID",
          "OH",
          "WI",
          "FL",
          "UT",
          "FL",
          "IA",
          "MS",
          "GA",
          "PA",
          "UT",
          "CO"
         ],
         "marker": {
          "line": {
           "width": 0
          }
         },
         "text": [
          null,
          "NY",
          "CA",
          "IL",
          "TX",
          "PA",
          "TX",
          "DC",
          "FL",
          "GA",
          "MA",
          "CA",
          "MI",
          "CA",
          "AZ",
          "WA",
          "MN",
          "CA",
          "MO",
          "FL",
          "MD",
          "CO",
          "PA",
          "OR",
          "NC",
          "CA",
          "TX",
          "FL",
          "OH",
          "OH",
          "MO",
          "NV",
          "OH",
          "IN",
          "CA",
          "TX",
          "VA",
          "TN",
          "RI",
          "WI",
          "FL",
          "TN",
          "OK",
          "KY",
          "CT",
          "VA",
          "LA",
          "NY",
          "NC",
          "AL",
          "UT",
          "NY",
          "MI",
          "AZ",
          "HI",
          "OK",
          "CA",
          "MA",
          "CT",
          "NM",
          "NY",
          "NE",
          "CT",
          "CA",
          "TN",
          "SC",
          "CA",
          "PA",
          "TX",
          "LA",
          "OH",
          "TX",
          "SC",
          "NC",
          "OH",
          "FL",
          "AR",
          "CA",
          "SC",
          "NY",
          "CO",
          "NC",
          "KS",
          "MA",
          "FL",
          "ID",
          "OH",
          "WI",
          "FL",
          "UT",
          "FL",
          "IA",
          "MS",
          "GA",
          "PA",
          "UT",
          "CO"
         ],
         "type": "choropleth",
         "z": [
          1428492,
          68791,
          20163,
          42733,
          24286,
          26335,
          33654,
          22245,
          60882,
          32600,
          10524,
          4454,
          15178,
          17553,
          25693,
          7748,
          10331,
          6485,
          12945,
          19716,
          12908,
          10670,
          10718,
          7665,
          8970,
          5745,
          11996,
          13132,
          8233,
          12055,
          9265,
          11784,
          5312,
          7269,
          1301,
          8096,
          11858,
          8709,
          5965,
          3785,
          9888,
          5769,
          9053,
          4493,
          5881,
          4947,
          3838,
          2809,
          6541,
          6281,
          2594,
          3071,
          3288,
          4963,
          3490,
          6906,
          1921,
          2912,
          5716,
          3823,
          2658,
          3035,
          4079,
          2530,
          4502,
          6324,
          1614,
          3813,
          4534,
          4133,
          2886,
          2292,
          6131,
          2908,
          3997,
          10235,
          5050,
          1323,
          5803,
          2595,
          1901,
          2605,
          2687,
          1793,
          13098,
          3483,
          2428,
          2310,
          4298,
          1902,
          5552,
          4099,
          2819,
          3890,
          2943,
          1852,
          2258
         ]
        }
       ],
       "layout": {
        "geo": {
         "scope": "usa",
         "subunitcolor": "Black"
        },
        "template": {
         "data": {
          "bar": [
           {
            "error_x": {
             "color": "#2a3f5f"
            },
            "error_y": {
             "color": "#2a3f5f"
            },
            "marker": {
             "line": {
              "color": "#E5ECF6",
              "width": 0.5
             }
            },
            "type": "bar"
           }
          ],
          "barpolar": [
           {
            "marker": {
             "line": {
              "color": "#E5ECF6",
              "width": 0.5
             }
            },
            "type": "barpolar"
           }
          ],
          "carpet": [
           {
            "aaxis": {
             "endlinecolor": "#2a3f5f",
             "gridcolor": "white",
             "linecolor": "white",
             "minorgridcolor": "white",
             "startlinecolor": "#2a3f5f"
            },
            "baxis": {
             "endlinecolor": "#2a3f5f",
             "gridcolor": "white",
             "linecolor": "white",
             "minorgridcolor": "white",
             "startlinecolor": "#2a3f5f"
            },
            "type": "carpet"
           }
          ],
          "choropleth": [
           {
            "colorbar": {
             "outlinewidth": 0,
             "ticks": ""
            },
            "type": "choropleth"
           }
          ],
          "contour": [
           {
            "colorbar": {
             "outlinewidth": 0,
             "ticks": ""
            },
            "colorscale": [
             [
              0,
              "#0d0887"
             ],
             [
              0.1111111111111111,
              "#46039f"
             ],
             [
              0.2222222222222222,
              "#7201a8"
             ],
             [
              0.3333333333333333,
              "#9c179e"
             ],
             [
              0.4444444444444444,
              "#bd3786"
             ],
             [
              0.5555555555555556,
              "#d8576b"
             ],
             [
              0.6666666666666666,
              "#ed7953"
             ],
             [
              0.7777777777777778,
              "#fb9f3a"
             ],
             [
              0.8888888888888888,
              "#fdca26"
             ],
             [
              1,
              "#f0f921"
             ]
            ],
            "type": "contour"
           }
          ],
          "contourcarpet": [
           {
            "colorbar": {
             "outlinewidth": 0,
             "ticks": ""
            },
            "type": "contourcarpet"
           }
          ],
          "heatmap": [
           {
            "colorbar": {
             "outlinewidth": 0,
             "ticks": ""
            },
            "colorscale": [
             [
              0,
              "#0d0887"
             ],
             [
              0.1111111111111111,
              "#46039f"
             ],
             [
              0.2222222222222222,
              "#7201a8"
             ],
             [
              0.3333333333333333,
              "#9c179e"
             ],
             [
              0.4444444444444444,
              "#bd3786"
             ],
             [
              0.5555555555555556,
              "#d8576b"
             ],
             [
              0.6666666666666666,
              "#ed7953"
             ],
             [
              0.7777777777777778,
              "#fb9f3a"
             ],
             [
              0.8888888888888888,
              "#fdca26"
             ],
             [
              1,
              "#f0f921"
             ]
            ],
            "type": "heatmap"
           }
          ],
          "heatmapgl": [
           {
            "colorbar": {
             "outlinewidth": 0,
             "ticks": ""
            },
            "colorscale": [
             [
              0,
              "#0d0887"
             ],
             [
              0.1111111111111111,
              "#46039f"
             ],
             [
              0.2222222222222222,
              "#7201a8"
             ],
             [
              0.3333333333333333,
              "#9c179e"
             ],
             [
              0.4444444444444444,
              "#bd3786"
             ],
             [
              0.5555555555555556,
              "#d8576b"
             ],
             [
              0.6666666666666666,
              "#ed7953"
             ],
             [
              0.7777777777777778,
              "#fb9f3a"
             ],
             [
              0.8888888888888888,
              "#fdca26"
             ],
             [
              1,
              "#f0f921"
             ]
            ],
            "type": "heatmapgl"
           }
          ],
          "histogram": [
           {
            "marker": {
             "colorbar": {
              "outlinewidth": 0,
              "ticks": ""
             }
            },
            "type": "histogram"
           }
          ],
          "histogram2d": [
           {
            "colorbar": {
             "outlinewidth": 0,
             "ticks": ""
            },
            "colorscale": [
             [
              0,
              "#0d0887"
             ],
             [
              0.1111111111111111,
              "#46039f"
             ],
             [
              0.2222222222222222,
              "#7201a8"
             ],
             [
              0.3333333333333333,
              "#9c179e"
             ],
             [
              0.4444444444444444,
              "#bd3786"
             ],
             [
              0.5555555555555556,
              "#d8576b"
             ],
             [
              0.6666666666666666,
              "#ed7953"
             ],
             [
              0.7777777777777778,
              "#fb9f3a"
             ],
             [
              0.8888888888888888,
              "#fdca26"
             ],
             [
              1,
              "#f0f921"
             ]
            ],
            "type": "histogram2d"
           }
          ],
          "histogram2dcontour": [
           {
            "colorbar": {
             "outlinewidth": 0,
             "ticks": ""
            },
            "colorscale": [
             [
              0,
              "#0d0887"
             ],
             [
              0.1111111111111111,
              "#46039f"
             ],
             [
              0.2222222222222222,
              "#7201a8"
             ],
             [
              0.3333333333333333,
              "#9c179e"
             ],
             [
              0.4444444444444444,
              "#bd3786"
             ],
             [
              0.5555555555555556,
              "#d8576b"
             ],
             [
              0.6666666666666666,
              "#ed7953"
             ],
             [
              0.7777777777777778,
              "#fb9f3a"
             ],
             [
              0.8888888888888888,
              "#fdca26"
             ],
             [
              1,
              "#f0f921"
             ]
            ],
            "type": "histogram2dcontour"
           }
          ],
          "mesh3d": [
           {
            "colorbar": {
             "outlinewidth": 0,
             "ticks": ""
            },
            "type": "mesh3d"
           }
          ],
          "parcoords": [
           {
            "line": {
             "colorbar": {
              "outlinewidth": 0,
              "ticks": ""
             }
            },
            "type": "parcoords"
           }
          ],
          "pie": [
           {
            "automargin": true,
            "type": "pie"
           }
          ],
          "scatter": [
           {
            "marker": {
             "colorbar": {
              "outlinewidth": 0,
              "ticks": ""
             }
            },
            "type": "scatter"
           }
          ],
          "scatter3d": [
           {
            "line": {
             "colorbar": {
              "outlinewidth": 0,
              "ticks": ""
             }
            },
            "marker": {
             "colorbar": {
              "outlinewidth": 0,
              "ticks": ""
             }
            },
            "type": "scatter3d"
           }
          ],
          "scattercarpet": [
           {
            "marker": {
             "colorbar": {
              "outlinewidth": 0,
              "ticks": ""
             }
            },
            "type": "scattercarpet"
           }
          ],
          "scattergeo": [
           {
            "marker": {
             "colorbar": {
              "outlinewidth": 0,
              "ticks": ""
             }
            },
            "type": "scattergeo"
           }
          ],
          "scattergl": [
           {
            "marker": {
             "colorbar": {
              "outlinewidth": 0,
              "ticks": ""
             }
            },
            "type": "scattergl"
           }
          ],
          "scattermapbox": [
           {
            "marker": {
             "colorbar": {
              "outlinewidth": 0,
              "ticks": ""
             }
            },
            "type": "scattermapbox"
           }
          ],
          "scatterpolar": [
           {
            "marker": {
             "colorbar": {
              "outlinewidth": 0,
              "ticks": ""
             }
            },
            "type": "scatterpolar"
           }
          ],
          "scatterpolargl": [
           {
            "marker": {
             "colorbar": {
              "outlinewidth": 0,
              "ticks": ""
             }
            },
            "type": "scatterpolargl"
           }
          ],
          "scatterternary": [
           {
            "marker": {
             "colorbar": {
              "outlinewidth": 0,
              "ticks": ""
             }
            },
            "type": "scatterternary"
           }
          ],
          "surface": [
           {
            "colorbar": {
             "outlinewidth": 0,
             "ticks": ""
            },
            "colorscale": [
             [
              0,
              "#0d0887"
             ],
             [
              0.1111111111111111,
              "#46039f"
             ],
             [
              0.2222222222222222,
              "#7201a8"
             ],
             [
              0.3333333333333333,
              "#9c179e"
             ],
             [
              0.4444444444444444,
              "#bd3786"
             ],
             [
              0.5555555555555556,
              "#d8576b"
             ],
             [
              0.6666666666666666,
              "#ed7953"
             ],
             [
              0.7777777777777778,
              "#fb9f3a"
             ],
             [
              0.8888888888888888,
              "#fdca26"
             ],
             [
              1,
              "#f0f921"
             ]
            ],
            "type": "surface"
           }
          ],
          "table": [
           {
            "cells": {
             "fill": {
              "color": "#EBF0F8"
             },
             "line": {
              "color": "white"
             }
            },
            "header": {
             "fill": {
              "color": "#C8D4E3"
             },
             "line": {
              "color": "white"
             }
            },
            "type": "table"
           }
          ]
         },
         "layout": {
          "annotationdefaults": {
           "arrowcolor": "#2a3f5f",
           "arrowhead": 0,
           "arrowwidth": 1
          },
          "coloraxis": {
           "colorbar": {
            "outlinewidth": 0,
            "ticks": ""
           }
          },
          "colorscale": {
           "diverging": [
            [
             0,
             "#8e0152"
            ],
            [
             0.1,
             "#c51b7d"
            ],
            [
             0.2,
             "#de77ae"
            ],
            [
             0.3,
             "#f1b6da"
            ],
            [
             0.4,
             "#fde0ef"
            ],
            [
             0.5,
             "#f7f7f7"
            ],
            [
             0.6,
             "#e6f5d0"
            ],
            [
             0.7,
             "#b8e186"
            ],
            [
             0.8,
             "#7fbc41"
            ],
            [
             0.9,
             "#4d9221"
            ],
            [
             1,
             "#276419"
            ]
           ],
           "sequential": [
            [
             0,
             "#0d0887"
            ],
            [
             0.1111111111111111,
             "#46039f"
            ],
            [
             0.2222222222222222,
             "#7201a8"
            ],
            [
             0.3333333333333333,
             "#9c179e"
            ],
            [
             0.4444444444444444,
             "#bd3786"
            ],
            [
             0.5555555555555556,
             "#d8576b"
            ],
            [
             0.6666666666666666,
             "#ed7953"
            ],
            [
             0.7777777777777778,
             "#fb9f3a"
            ],
            [
             0.8888888888888888,
             "#fdca26"
            ],
            [
             1,
             "#f0f921"
            ]
           ],
           "sequentialminus": [
            [
             0,
             "#0d0887"
            ],
            [
             0.1111111111111111,
             "#46039f"
            ],
            [
             0.2222222222222222,
             "#7201a8"
            ],
            [
             0.3333333333333333,
             "#9c179e"
            ],
            [
             0.4444444444444444,
             "#bd3786"
            ],
            [
             0.5555555555555556,
             "#d8576b"
            ],
            [
             0.6666666666666666,
             "#ed7953"
            ],
            [
             0.7777777777777778,
             "#fb9f3a"
            ],
            [
             0.8888888888888888,
             "#fdca26"
            ],
            [
             1,
             "#f0f921"
            ]
           ]
          },
          "colorway": [
           "#636efa",
           "#EF553B",
           "#00cc96",
           "#ab63fa",
           "#FFA15A",
           "#19d3f3",
           "#FF6692",
           "#B6E880",
           "#FF97FF",
           "#FECB52"
          ],
          "font": {
           "color": "#2a3f5f"
          },
          "geo": {
           "bgcolor": "white",
           "lakecolor": "white",
           "landcolor": "#E5ECF6",
           "showlakes": true,
           "showland": true,
           "subunitcolor": "white"
          },
          "hoverlabel": {
           "align": "left"
          },
          "hovermode": "closest",
          "mapbox": {
           "style": "light"
          },
          "paper_bgcolor": "white",
          "plot_bgcolor": "#E5ECF6",
          "polar": {
           "angularaxis": {
            "gridcolor": "white",
            "linecolor": "white",
            "ticks": ""
           },
           "bgcolor": "#E5ECF6",
           "radialaxis": {
            "gridcolor": "white",
            "linecolor": "white",
            "ticks": ""
           }
          },
          "scene": {
           "xaxis": {
            "backgroundcolor": "#E5ECF6",
            "gridcolor": "white",
            "gridwidth": 2,
            "linecolor": "white",
            "showbackground": true,
            "ticks": "",
            "zerolinecolor": "white"
           },
           "yaxis": {
            "backgroundcolor": "#E5ECF6",
            "gridcolor": "white",
            "gridwidth": 2,
            "linecolor": "white",
            "showbackground": true,
            "ticks": "",
            "zerolinecolor": "white"
           },
           "zaxis": {
            "backgroundcolor": "#E5ECF6",
            "gridcolor": "white",
            "gridwidth": 2,
            "linecolor": "white",
            "showbackground": true,
            "ticks": "",
            "zerolinecolor": "white"
           }
          },
          "shapedefaults": {
           "line": {
            "color": "#2a3f5f"
           }
          },
          "ternary": {
           "aaxis": {
            "gridcolor": "white",
            "linecolor": "white",
            "ticks": ""
           },
           "baxis": {
            "gridcolor": "white",
            "linecolor": "white",
            "ticks": ""
           },
           "bgcolor": "#E5ECF6",
           "caxis": {
            "gridcolor": "white",
            "linecolor": "white",
            "ticks": ""
           }
          },
          "title": {
           "x": 0.05
          },
          "xaxis": {
           "automargin": true,
           "gridcolor": "white",
           "linecolor": "white",
           "ticks": "",
           "title": {
            "standoff": 15
           },
           "zerolinecolor": "white",
           "zerolinewidth": 2
          },
          "yaxis": {
           "automargin": true,
           "gridcolor": "white",
           "linecolor": "white",
           "ticks": "",
           "title": {
            "standoff": 15
           },
           "zerolinecolor": "white",
           "zerolinewidth": 2
          }
         }
        },
        "title": {
         "text": "---"
        }
       }
      },
      "text/html": [
       "<div>\n",
       "        \n",
       "        \n",
       "            <div id=\"deae776a-453f-4623-b615-b2f4ed55b56d\" class=\"plotly-graph-div\" style=\"height:525px; width:100%;\"></div>\n",
       "            <script type=\"text/javascript\">\n",
       "                require([\"plotly\"], function(Plotly) {\n",
       "                    window.PLOTLYENV=window.PLOTLYENV || {};\n",
       "                    \n",
       "                if (document.getElementById(\"deae776a-453f-4623-b615-b2f4ed55b56d\")) {\n",
       "                    Plotly.newPlot(\n",
       "                        'deae776a-453f-4623-b615-b2f4ed55b56d',\n",
       "                        [{\"colorbar\": {\"title\": {\"text\": \"Scale\"}}, \"colorscale\": [[0.0, \"rgb(253, 224, 197)\"], [0.16666666666666666, \"rgb(250, 203, 166)\"], [0.3333333333333333, \"rgb(248, 181, 139)\"], [0.5, \"rgb(245, 158, 114)\"], [0.6666666666666666, \"rgb(242, 133, 93)\"], [0.8333333333333334, \"rgb(239, 106, 76)\"], [1.0, \"rgb(235, 74, 64)\"]], \"locationmode\": \"USA-states\", \"locations\": [null, \"NY\", \"CA\", \"IL\", \"TX\", \"PA\", \"TX\", \"DC\", \"FL\", \"GA\", \"MA\", \"CA\", \"MI\", \"CA\", \"AZ\", \"WA\", \"MN\", \"CA\", \"MO\", \"FL\", \"MD\", \"CO\", \"PA\", \"OR\", \"NC\", \"CA\", \"TX\", \"FL\", \"OH\", \"OH\", \"MO\", \"NV\", \"OH\", \"IN\", \"CA\", \"TX\", \"VA\", \"TN\", \"RI\", \"WI\", \"FL\", \"TN\", \"OK\", \"KY\", \"CT\", \"VA\", \"LA\", \"NY\", \"NC\", \"AL\", \"UT\", \"NY\", \"MI\", \"AZ\", \"HI\", \"OK\", \"CA\", \"MA\", \"CT\", \"NM\", \"NY\", \"NE\", \"CT\", \"CA\", \"TN\", \"SC\", \"CA\", \"PA\", \"TX\", \"LA\", \"OH\", \"TX\", \"SC\", \"NC\", \"OH\", \"FL\", \"AR\", \"CA\", \"SC\", \"NY\", \"CO\", \"NC\", \"KS\", \"MA\", \"FL\", \"ID\", \"OH\", \"WI\", \"FL\", \"UT\", \"FL\", \"IA\", \"MS\", \"GA\", \"PA\", \"UT\", \"CO\"], \"marker\": {\"line\": {\"width\": 0}}, \"text\": [null, \"NY\", \"CA\", \"IL\", \"TX\", \"PA\", \"TX\", \"DC\", \"FL\", \"GA\", \"MA\", \"CA\", \"MI\", \"CA\", \"AZ\", \"WA\", \"MN\", \"CA\", \"MO\", \"FL\", \"MD\", \"CO\", \"PA\", \"OR\", \"NC\", \"CA\", \"TX\", \"FL\", \"OH\", \"OH\", \"MO\", \"NV\", \"OH\", \"IN\", \"CA\", \"TX\", \"VA\", \"TN\", \"RI\", \"WI\", \"FL\", \"TN\", \"OK\", \"KY\", \"CT\", \"VA\", \"LA\", \"NY\", \"NC\", \"AL\", \"UT\", \"NY\", \"MI\", \"AZ\", \"HI\", \"OK\", \"CA\", \"MA\", \"CT\", \"NM\", \"NY\", \"NE\", \"CT\", \"CA\", \"TN\", \"SC\", \"CA\", \"PA\", \"TX\", \"LA\", \"OH\", \"TX\", \"SC\", \"NC\", \"OH\", \"FL\", \"AR\", \"CA\", \"SC\", \"NY\", \"CO\", \"NC\", \"KS\", \"MA\", \"FL\", \"ID\", \"OH\", \"WI\", \"FL\", \"UT\", \"FL\", \"IA\", \"MS\", \"GA\", \"PA\", \"UT\", \"CO\"], \"type\": \"choropleth\", \"z\": [1428492.0, 68791.0, 20163.0, 42733.0, 24286.0, 26335.0, 33654.0, 22245.0, 60882.0, 32600.0, 10524.0, 4454.0, 15178.0, 17553.0, 25693.0, 7748.0, 10331.0, 6485.0, 12945.0, 19716.0, 12908.0, 10670.0, 10718.0, 7665.0, 8970.0, 5745.0, 11996.0, 13132.0, 8233.0, 12055.0, 9265.0, 11784.0, 5312.0, 7269.0, 1301.0, 8096.0, 11858.0, 8709.0, 5965.0, 3785.0, 9888.0, 5769.0, 9053.0, 4493.0, 5881.0, 4947.0, 3838.0, 2809.0, 6541.0, 6281.0, 2594.0, 3071.0, 3288.0, 4963.0, 3490.0, 6906.0, 1921.0, 2912.0, 5716.0, 3823.0, 2658.0, 3035.0, 4079.0, 2530.0, 4502.0, 6324.0, 1614.0, 3813.0, 4534.0, 4133.0, 2886.0, 2292.0, 6131.0, 2908.0, 3997.0, 10235.0, 5050.0, 1323.0, 5803.0, 2595.0, 1901.0, 2605.0, 2687.0, 1793.0, 13098.0, 3483.0, 2428.0, 2310.0, 4298.0, 1902.0, 5552.0, 4099.0, 2819.0, 3890.0, 2943.0, 1852.0, 2258.0]}],\n",
       "                        {\"geo\": {\"scope\": \"usa\", \"subunitcolor\": \"Black\"}, \"template\": {\"data\": {\"bar\": [{\"error_x\": {\"color\": \"#2a3f5f\"}, \"error_y\": {\"color\": \"#2a3f5f\"}, \"marker\": {\"line\": {\"color\": \"#E5ECF6\", \"width\": 0.5}}, \"type\": \"bar\"}], \"barpolar\": [{\"marker\": {\"line\": {\"color\": \"#E5ECF6\", \"width\": 0.5}}, \"type\": \"barpolar\"}], \"carpet\": [{\"aaxis\": {\"endlinecolor\": \"#2a3f5f\", \"gridcolor\": \"white\", \"linecolor\": \"white\", \"minorgridcolor\": \"white\", \"startlinecolor\": \"#2a3f5f\"}, \"baxis\": {\"endlinecolor\": \"#2a3f5f\", \"gridcolor\": \"white\", \"linecolor\": \"white\", \"minorgridcolor\": \"white\", \"startlinecolor\": \"#2a3f5f\"}, \"type\": \"carpet\"}], \"choropleth\": [{\"colorbar\": {\"outlinewidth\": 0, \"ticks\": \"\"}, \"type\": \"choropleth\"}], \"contour\": [{\"colorbar\": {\"outlinewidth\": 0, \"ticks\": \"\"}, \"colorscale\": [[0.0, \"#0d0887\"], [0.1111111111111111, \"#46039f\"], [0.2222222222222222, \"#7201a8\"], [0.3333333333333333, \"#9c179e\"], [0.4444444444444444, \"#bd3786\"], [0.5555555555555556, \"#d8576b\"], [0.6666666666666666, \"#ed7953\"], [0.7777777777777778, \"#fb9f3a\"], [0.8888888888888888, \"#fdca26\"], [1.0, \"#f0f921\"]], \"type\": \"contour\"}], \"contourcarpet\": [{\"colorbar\": {\"outlinewidth\": 0, \"ticks\": \"\"}, \"type\": \"contourcarpet\"}], \"heatmap\": [{\"colorbar\": {\"outlinewidth\": 0, \"ticks\": \"\"}, \"colorscale\": [[0.0, \"#0d0887\"], [0.1111111111111111, \"#46039f\"], [0.2222222222222222, \"#7201a8\"], [0.3333333333333333, \"#9c179e\"], [0.4444444444444444, \"#bd3786\"], [0.5555555555555556, \"#d8576b\"], [0.6666666666666666, \"#ed7953\"], [0.7777777777777778, \"#fb9f3a\"], [0.8888888888888888, \"#fdca26\"], [1.0, \"#f0f921\"]], \"type\": \"heatmap\"}], \"heatmapgl\": [{\"colorbar\": {\"outlinewidth\": 0, \"ticks\": \"\"}, \"colorscale\": [[0.0, \"#0d0887\"], [0.1111111111111111, \"#46039f\"], [0.2222222222222222, \"#7201a8\"], [0.3333333333333333, \"#9c179e\"], [0.4444444444444444, \"#bd3786\"], [0.5555555555555556, \"#d8576b\"], [0.6666666666666666, \"#ed7953\"], [0.7777777777777778, \"#fb9f3a\"], [0.8888888888888888, \"#fdca26\"], [1.0, \"#f0f921\"]], \"type\": \"heatmapgl\"}], \"histogram\": [{\"marker\": {\"colorbar\": {\"outlinewidth\": 0, \"ticks\": \"\"}}, \"type\": \"histogram\"}], \"histogram2d\": [{\"colorbar\": {\"outlinewidth\": 0, \"ticks\": \"\"}, \"colorscale\": [[0.0, \"#0d0887\"], [0.1111111111111111, \"#46039f\"], [0.2222222222222222, \"#7201a8\"], [0.3333333333333333, \"#9c179e\"], [0.4444444444444444, \"#bd3786\"], [0.5555555555555556, \"#d8576b\"], [0.6666666666666666, \"#ed7953\"], [0.7777777777777778, \"#fb9f3a\"], [0.8888888888888888, \"#fdca26\"], [1.0, \"#f0f921\"]], \"type\": \"histogram2d\"}], \"histogram2dcontour\": [{\"colorbar\": {\"outlinewidth\": 0, \"ticks\": \"\"}, \"colorscale\": [[0.0, \"#0d0887\"], [0.1111111111111111, \"#46039f\"], [0.2222222222222222, \"#7201a8\"], [0.3333333333333333, \"#9c179e\"], [0.4444444444444444, \"#bd3786\"], [0.5555555555555556, \"#d8576b\"], [0.6666666666666666, \"#ed7953\"], [0.7777777777777778, \"#fb9f3a\"], [0.8888888888888888, \"#fdca26\"], [1.0, \"#f0f921\"]], \"type\": \"histogram2dcontour\"}], \"mesh3d\": [{\"colorbar\": {\"outlinewidth\": 0, \"ticks\": \"\"}, \"type\": \"mesh3d\"}], \"parcoords\": [{\"line\": {\"colorbar\": {\"outlinewidth\": 0, \"ticks\": \"\"}}, \"type\": \"parcoords\"}], \"pie\": [{\"automargin\": true, \"type\": \"pie\"}], \"scatter\": [{\"marker\": {\"colorbar\": {\"outlinewidth\": 0, \"ticks\": \"\"}}, \"type\": \"scatter\"}], \"scatter3d\": [{\"line\": {\"colorbar\": {\"outlinewidth\": 0, \"ticks\": \"\"}}, \"marker\": {\"colorbar\": {\"outlinewidth\": 0, \"ticks\": \"\"}}, \"type\": \"scatter3d\"}], \"scattercarpet\": [{\"marker\": {\"colorbar\": {\"outlinewidth\": 0, \"ticks\": \"\"}}, \"type\": \"scattercarpet\"}], \"scattergeo\": [{\"marker\": {\"colorbar\": {\"outlinewidth\": 0, \"ticks\": \"\"}}, \"type\": \"scattergeo\"}], \"scattergl\": [{\"marker\": {\"colorbar\": {\"outlinewidth\": 0, \"ticks\": \"\"}}, \"type\": \"scattergl\"}], \"scattermapbox\": [{\"marker\": {\"colorbar\": {\"outlinewidth\": 0, \"ticks\": \"\"}}, \"type\": \"scattermapbox\"}], \"scatterpolar\": [{\"marker\": {\"colorbar\": {\"outlinewidth\": 0, \"ticks\": \"\"}}, \"type\": \"scatterpolar\"}], \"scatterpolargl\": [{\"marker\": {\"colorbar\": {\"outlinewidth\": 0, \"ticks\": \"\"}}, \"type\": \"scatterpolargl\"}], \"scatterternary\": [{\"marker\": {\"colorbar\": {\"outlinewidth\": 0, \"ticks\": \"\"}}, \"type\": \"scatterternary\"}], \"surface\": [{\"colorbar\": {\"outlinewidth\": 0, \"ticks\": \"\"}, \"colorscale\": [[0.0, \"#0d0887\"], [0.1111111111111111, \"#46039f\"], [0.2222222222222222, \"#7201a8\"], [0.3333333333333333, \"#9c179e\"], [0.4444444444444444, \"#bd3786\"], [0.5555555555555556, \"#d8576b\"], [0.6666666666666666, \"#ed7953\"], [0.7777777777777778, \"#fb9f3a\"], [0.8888888888888888, \"#fdca26\"], [1.0, \"#f0f921\"]], \"type\": \"surface\"}], \"table\": [{\"cells\": {\"fill\": {\"color\": \"#EBF0F8\"}, \"line\": {\"color\": \"white\"}}, \"header\": {\"fill\": {\"color\": \"#C8D4E3\"}, \"line\": {\"color\": \"white\"}}, \"type\": \"table\"}]}, \"layout\": {\"annotationdefaults\": {\"arrowcolor\": \"#2a3f5f\", \"arrowhead\": 0, \"arrowwidth\": 1}, \"coloraxis\": {\"colorbar\": {\"outlinewidth\": 0, \"ticks\": \"\"}}, \"colorscale\": {\"diverging\": [[0, \"#8e0152\"], [0.1, \"#c51b7d\"], [0.2, \"#de77ae\"], [0.3, \"#f1b6da\"], [0.4, \"#fde0ef\"], [0.5, \"#f7f7f7\"], [0.6, \"#e6f5d0\"], [0.7, \"#b8e186\"], [0.8, \"#7fbc41\"], [0.9, \"#4d9221\"], [1, \"#276419\"]], \"sequential\": [[0.0, \"#0d0887\"], [0.1111111111111111, \"#46039f\"], [0.2222222222222222, \"#7201a8\"], [0.3333333333333333, \"#9c179e\"], [0.4444444444444444, \"#bd3786\"], [0.5555555555555556, \"#d8576b\"], [0.6666666666666666, \"#ed7953\"], [0.7777777777777778, \"#fb9f3a\"], [0.8888888888888888, \"#fdca26\"], [1.0, \"#f0f921\"]], \"sequentialminus\": [[0.0, \"#0d0887\"], [0.1111111111111111, \"#46039f\"], [0.2222222222222222, \"#7201a8\"], [0.3333333333333333, \"#9c179e\"], [0.4444444444444444, \"#bd3786\"], [0.5555555555555556, \"#d8576b\"], [0.6666666666666666, \"#ed7953\"], [0.7777777777777778, \"#fb9f3a\"], [0.8888888888888888, \"#fdca26\"], [1.0, \"#f0f921\"]]}, \"colorway\": [\"#636efa\", \"#EF553B\", \"#00cc96\", \"#ab63fa\", \"#FFA15A\", \"#19d3f3\", \"#FF6692\", \"#B6E880\", \"#FF97FF\", \"#FECB52\"], \"font\": {\"color\": \"#2a3f5f\"}, \"geo\": {\"bgcolor\": \"white\", \"lakecolor\": \"white\", \"landcolor\": \"#E5ECF6\", \"showlakes\": true, \"showland\": true, \"subunitcolor\": \"white\"}, \"hoverlabel\": {\"align\": \"left\"}, \"hovermode\": \"closest\", \"mapbox\": {\"style\": \"light\"}, \"paper_bgcolor\": \"white\", \"plot_bgcolor\": \"#E5ECF6\", \"polar\": {\"angularaxis\": {\"gridcolor\": \"white\", \"linecolor\": \"white\", \"ticks\": \"\"}, \"bgcolor\": \"#E5ECF6\", \"radialaxis\": {\"gridcolor\": \"white\", \"linecolor\": \"white\", \"ticks\": \"\"}}, \"scene\": {\"xaxis\": {\"backgroundcolor\": \"#E5ECF6\", \"gridcolor\": \"white\", \"gridwidth\": 2, \"linecolor\": \"white\", \"showbackground\": true, \"ticks\": \"\", \"zerolinecolor\": \"white\"}, \"yaxis\": {\"backgroundcolor\": \"#E5ECF6\", \"gridcolor\": \"white\", \"gridwidth\": 2, \"linecolor\": \"white\", \"showbackground\": true, \"ticks\": \"\", \"zerolinecolor\": \"white\"}, \"zaxis\": {\"backgroundcolor\": \"#E5ECF6\", \"gridcolor\": \"white\", \"gridwidth\": 2, \"linecolor\": \"white\", \"showbackground\": true, \"ticks\": \"\", \"zerolinecolor\": \"white\"}}, \"shapedefaults\": {\"line\": {\"color\": \"#2a3f5f\"}}, \"ternary\": {\"aaxis\": {\"gridcolor\": \"white\", \"linecolor\": \"white\", \"ticks\": \"\"}, \"baxis\": {\"gridcolor\": \"white\", \"linecolor\": \"white\", \"ticks\": \"\"}, \"bgcolor\": \"#E5ECF6\", \"caxis\": {\"gridcolor\": \"white\", \"linecolor\": \"white\", \"ticks\": \"\"}}, \"title\": {\"x\": 0.05}, \"xaxis\": {\"automargin\": true, \"gridcolor\": \"white\", \"linecolor\": \"white\", \"ticks\": \"\", \"title\": {\"standoff\": 15}, \"zerolinecolor\": \"white\", \"zerolinewidth\": 2}, \"yaxis\": {\"automargin\": true, \"gridcolor\": \"white\", \"linecolor\": \"white\", \"ticks\": \"\", \"title\": {\"standoff\": 15}, \"zerolinecolor\": \"white\", \"zerolinewidth\": 2}}}, \"title\": {\"text\": \"---\"}},\n",
       "                        {\"responsive\": true}\n",
       "                    ).then(function(){\n",
       "                            \n",
       "var gd = document.getElementById('deae776a-453f-4623-b615-b2f4ed55b56d');\n",
       "var x = new MutationObserver(function (mutations, observer) {{\n",
       "        var display = window.getComputedStyle(gd).display;\n",
       "        if (!display || display === 'none') {{\n",
       "            console.log([gd, 'removed!']);\n",
       "            Plotly.purge(gd);\n",
       "            observer.disconnect();\n",
       "        }}\n",
       "}});\n",
       "\n",
       "// Listen for the removal of the full notebook cells\n",
       "var notebookContainer = gd.closest('#notebook-container');\n",
       "if (notebookContainer) {{\n",
       "    x.observe(notebookContainer, {childList: true});\n",
       "}}\n",
       "\n",
       "// Listen for the clearing of the current output cell\n",
       "var outputEl = gd.closest('.output');\n",
       "if (outputEl) {{\n",
       "    x.observe(outputEl, {childList: true});\n",
       "}}\n",
       "\n",
       "                        })\n",
       "                };\n",
       "                });\n",
       "            </script>\n",
       "        </div>"
      ]
     },
     "metadata": {},
     "output_type": "display_data"
    }
   ],
   "source": [
    "data = dict(type='choropleth', \n",
    "            colorscale='peach', \n",
    "            locations = df['StateName'], \n",
    "            locationmode = 'USA-states', \n",
    "            z = df['2018-01-31'], \n",
    "            text = df['StateName'], \n",
    "            colorbar={'title':'Scale'},  \n",
    "            marker = dict(line=dict(width=0))) \n",
    "layout = dict(title = '---', \n",
    "              geo = dict(scope='usa', \n",
    "                         subunitcolor=\"Black\"))\n",
    "state_map = go.Figure(data = [data], layout = layout)\n",
    "iplot(state_map)"
   ]
  },
  {
   "cell_type": "code",
   "execution_count": null,
   "metadata": {},
   "outputs": [],
   "source": []
  }
 ],
 "metadata": {
  "kernelspec": {
   "display_name": "Python 3",
   "language": "python",
   "name": "python3"
  },
  "language_info": {
   "codemirror_mode": {
    "name": "ipython",
    "version": 3
   },
   "file_extension": ".py",
   "mimetype": "text/x-python",
   "name": "python",
   "nbconvert_exporter": "python",
   "pygments_lexer": "ipython3",
   "version": "3.7.4"
  }
 },
 "nbformat": 4,
 "nbformat_minor": 2
}
